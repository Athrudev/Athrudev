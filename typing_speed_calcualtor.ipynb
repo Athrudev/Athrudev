{
  "nbformat": 4,
  "nbformat_minor": 0,
  "metadata": {
    "colab": {
      "provenance": [],
      "authorship_tag": "ABX9TyMpIpjIJm/9f2hzdr6MEznd",
      "include_colab_link": true
    },
    "kernelspec": {
      "name": "python3",
      "display_name": "Python 3"
    },
    "language_info": {
      "name": "python"
    }
  },
  "cells": [
    {
      "cell_type": "markdown",
      "metadata": {
        "id": "view-in-github",
        "colab_type": "text"
      },
      "source": [
        "<a href=\"https://colab.research.google.com/github/Athrudev/Athrudev/blob/main/typing_speed_calcualtor.ipynb\" target=\"_parent\"><img src=\"https://colab.research.google.com/assets/colab-badge.svg\" alt=\"Open In Colab\"/></a>"
      ]
    },
    {
      "cell_type": "code",
      "execution_count": 3,
      "metadata": {
        "id": "aFtm3bCaUOMK"
      },
      "outputs": [],
      "source": [
        "from time import *\n",
        "import random as r"
      ]
    },
    {
      "cell_type": "code",
      "source": [
        "\n",
        "\n",
        "def mistake(paraTest,userInput):\n",
        "  err=0\n",
        "  for i in range(len(paraTest)):\n",
        "    try:\n",
        "      if paraTest[i]!=userInput[i]:\n",
        "        err=err+1\n",
        "    except: #we are adding this try except block because if user inputs more than the paraTest then it will thorow an out of bound error\n",
        "      err=err+1\n",
        "  return err\n",
        "\n",
        "def speed_wpm(startTime,endTime,userInput):\n",
        "  timeDelay=endTime-startTime\n",
        "  timeDelay=round(timeDelay,2)\n",
        "  speed=len(userInput)/timeDelay\n",
        "  return round(speed)\n",
        "\n",
        "\n"
      ],
      "metadata": {
        "id": "4icN8ZW0VGdW"
      },
      "execution_count": 14,
      "outputs": []
    },
    {
      "cell_type": "code",
      "source": [
        "easy_paragraphs = [\n",
        "    \"The sun is shining brightly today. It's a perfect day for a picnic in the park.\",\n",
        "    \"I love to read books in my free time. Reading helps me learn new things and relax.\",\n",
        "    \"Cooking is a fun hobby. I enjoy trying new recipes and sharing meals with friends.\",\n",
        "    \"Music has the power to change our mood. A good song can make us feel happy or calm.\",\n",
        "    \"Weekends are a great time to catch up with family and friends. We often have barbecues in the backyard.\",\n",
        "    \"Pets can be wonderful companions. Dogs are known for their loyalty and cats for their independence.\",\n",
        "    \"Gardening is a relaxing activity. It's satisfying to watch plants grow from seeds to flowers.\",\n",
        "    \"Riding a bicycle is good exercise. It's also an eco-friendly way to travel short distances.\",\n",
        "    \"Watching movies is a popular pastime. Everyone has their favorite genres and actors.\",\n",
        "    \"Taking a walk in nature can be very refreshing. It helps clear the mind and reduce stress.\"\n",
        "]\n",
        "\n",
        "medium_paragraphs = [\n",
        "    \"The quick brown fox jumps over the lazy dog. This pangram contains every letter of the English alphabet at least once.\",\n",
        "    \"Learning a new language can be challenging, but it's also very rewarding. It opens up new cultures and perspectives.\",\n",
        "    \"Exercise is important for maintaining good health. A combination of cardio and strength training is often recommended.\",\n",
        "    \"Photography is both an art and a science. It requires technical knowledge as well as a creative eye for composition.\",\n",
        "    \"The Internet has revolutionized the way we communicate and access information. It has connected people across the globe.\",\n",
        "    \"Climate change is a pressing issue that affects us all. Small changes in our daily lives can contribute to a more sustainable future.\",\n",
        "    \"Artificial intelligence is becoming increasingly prevalent in our lives. From smartphones to smart homes, AI is all around us.\",\n",
        "    \"The human brain is capable of incredible feats. It can process vast amounts of information and make complex decisions in seconds.\",\n",
        "    \"Space exploration continues to captivate our imagination. The possibility of finding life on other planets is particularly intriguing.\",\n",
        "    \"Renewable energy sources like solar and wind power are becoming more important as we try to reduce our reliance on fossil fuels.\"\n",
        "]\n",
        "\n",
        "hard_paragraphs = [\n",
        "    \"Quantum computing leverages the principles of quantum mechanics to process information. It has the potential to revolutionize fields such as cryptography and drug discovery.\",\n",
        "    \"The human brain is a complex organ that scientists are still working to fully understand. It contains approximately 86 billion neurons, each forming thousands of connections.\",\n",
        "    \"Climate change is a pressing global issue that requires international cooperation to address. It affects various aspects of our environment, from weather patterns to ecosystems.\",\n",
        "    \"The theory of relativity, proposed by Albert Einstein, fundamentally changed our understanding of space, time, and gravity. It has been extensively tested and verified over the past century.\",\n",
        "    \"Blockchain technology, best known for underpinning cryptocurrencies, has potential applications in various fields including finance, supply chain management, and voting systems.\",\n",
        "    \"The human genome project, completed in 2003, mapped all human genes. This breakthrough has paved the way for personalized medicine and deeper understanding of genetic diseases.\",\n",
        "    \"Artificial neural networks, inspired by biological neural networks, form the basis of many modern machine learning algorithms. They've achieved remarkable results in tasks such as image and speech recognition.\",\n",
        "    \"The concept of dark matter was proposed to explain gravitational effects observed in the universe that cannot be accounted for by visible matter alone. It remains one of the biggest mysteries in modern physics.\",\n",
        "    \"CRISPR-Cas9 is a revolutionary gene-editing tool that allows scientists to make precise changes to DNA. It has potential applications in treating genetic disorders and improving crop yields.\",\n",
        "    \"The Internet of Things (IoT) refers to the interconnected network of physical devices embedded with electronics, software, and network connectivity. It's transforming how we interact with our environment and manage resources.\"\n",
        "]\n",
        "\n",
        "difficulty_choices = {\n",
        "    \"1\": (\"Easy\", easy_paragraphs),\n",
        "    \"2\": (\"Medium\", medium_paragraphs),\n",
        "    \"3\": (\"Hard\", hard_paragraphs)\n",
        "}\n"
      ],
      "metadata": {
        "id": "uuEf2yzjgw9s"
      },
      "execution_count": 15,
      "outputs": []
    },
    {
      "cell_type": "code",
      "source": [],
      "metadata": {
        "id": "fg2hy-REhele"
      },
      "execution_count": null,
      "outputs": []
    },
    {
      "cell_type": "code",
      "source": [
        "print(\"===== Welcome to the Typing Speed Test =====\")\n",
        "print(\"This test will measure your typing speed and accuracy.\")\n",
        "print(\"Are you ready to challenge your typing skills?\\n\")\n",
        "\n",
        "\n",
        "while True:\n",
        "\n",
        "    print(\"\\n===== Welcome to the Typing Speed Test =====\")\n",
        "    print(\"1. Start a new test\")\n",
        "    print(\"2. Exit\")\n",
        "    choice = input(\"Enter your choice (1/2): \")\n",
        "\n",
        "    if choice == \"1\":\n",
        "        print(\"\\nChoose difficulty level:\")\n",
        "        for key, (name, _) in difficulty_choices.items():\n",
        "            print(f\"{key}. {name}\")\n",
        "        difficulty = input(\"Enter difficulty (1/2/3): \")\n",
        "\n",
        "\n",
        "\n",
        "        difficulty_name, paragraphs = difficulty_choices.get(difficulty, (\"Medium\", medium_paragraphs))\n",
        "        print(f\"\\nSelected difficulty: {difficulty_name}\")\n",
        "\n",
        "\n",
        "\n",
        "        test = r.choice(paragraphs)\n",
        "        print(\"\\n===== Typing Speed Test =====\")\n",
        "        print(\"Type the following text as quickly and accurately as you can:\\n\")\n",
        "        print(test, \"\\n\")\n",
        "        start_time = time()\n",
        "        user_input = input(\"Start typing: \")\n",
        "        end_time = time()\n",
        "\n",
        "        print(f\"\\nTest completed!\")\n",
        "        print(f\"Your typing speed: {speed_wpm(start_time, end_time, user_input)} words per minute\")\n",
        "        print(f\"Mistakes made: {mistake(test, user_input)}\")\n",
        "        print(\"Keep practicing to improve your speed and accuracy!\")\n",
        "\n",
        "    elif choice == \"2\":\n",
        "        print(\"Thank you for using our Typing Speed Test tool. Have a great day!\")\n",
        "        break\n",
        "    else:\n",
        "        print(\"Invalid choice. Please try again.\")\n"
      ],
      "metadata": {
        "colab": {
          "base_uri": "https://localhost:8080/"
        },
        "id": "ZA_yIO5yUgJU",
        "outputId": "9f9d2c48-9436-4817-ef4f-4027c081b732"
      },
      "execution_count": 17,
      "outputs": [
        {
          "output_type": "stream",
          "name": "stdout",
          "text": [
            "===== Welcome to the Typing Speed Test =====\n",
            "This test will measure your typing speed and accuracy.\n",
            "Are you ready to challenge your typing skills?\n",
            "\n",
            "\n",
            "===== Welcome to the Typing Speed Test =====\n",
            "1. Start a new test\n",
            "2. Exit\n",
            "Enter your choice (1/2): 1\n",
            "\n",
            "Choose difficulty level:\n",
            "1. Easy\n",
            "2. Medium\n",
            "3. Hard\n",
            "Enter difficulty (1/2/3): 3\n",
            "\n",
            "Selected difficulty: Hard\n",
            "\n",
            "===== Typing Speed Test =====\n",
            "Type the following text as quickly and accurately as you can:\n",
            "\n",
            "Quantum computing leverages the principles of quantum mechanics to process information. It has the potential to revolutionize fields such as cryptography and drug discovery. \n",
            "\n",
            "Start typing: Quantum computing leverage  the principal of quantum mechanics to process information. It has the potential\n",
            "\n",
            "Test completed!\n",
            "Your typing speed: 1 words per minute\n",
            "Mistakes made: 134\n",
            "Keep practicing to improve your speed and accuracy!\n",
            "\n",
            "===== Welcome to the Typing Speed Test =====\n",
            "1. Start a new test\n",
            "2. Exit\n",
            "Enter your choice (1/2): 3\n",
            "Invalid choice. Please try again.\n",
            "\n",
            "===== Welcome to the Typing Speed Test =====\n",
            "1. Start a new test\n",
            "2. Exit\n",
            "Enter your choice (1/2): 2\n",
            "Thank you for using our Typing Speed Test tool. Have a great day!\n"
          ]
        }
      ]
    },
    {
      "cell_type": "code",
      "source": [],
      "metadata": {
        "id": "XnYjwbyrhQA1"
      },
      "execution_count": null,
      "outputs": []
    }
  ]
}