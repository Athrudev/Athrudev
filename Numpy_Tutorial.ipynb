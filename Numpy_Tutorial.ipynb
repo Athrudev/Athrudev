{
  "nbformat": 4,
  "nbformat_minor": 0,
  "metadata": {
    "colab": {
      "provenance": [],
      "authorship_tag": "ABX9TyM6tVqbbKJ/RW+0yzVEy9Ar",
      "include_colab_link": true
    },
    "kernelspec": {
      "name": "python3",
      "display_name": "Python 3"
    },
    "language_info": {
      "name": "python"
    }
  },
  "cells": [
    {
      "cell_type": "markdown",
      "metadata": {
        "id": "view-in-github",
        "colab_type": "text"
      },
      "source": [
        "<a href=\"https://colab.research.google.com/github/Athrudev/Athrudev/blob/main/Numpy_Tutorial.ipynb\" target=\"_parent\"><img src=\"https://colab.research.google.com/assets/colab-badge.svg\" alt=\"Open In Colab\"/></a>"
      ]
    },
    {
      "cell_type": "markdown",
      "source": [
        "#**Begginer Tutorial for Numpy**\n"
      ],
      "metadata": {
        "id": "VnonPR8uhFhV"
      }
    },
    {
      "cell_type": "markdown",
      "source": [
        "**why we use Numpy?**\n",
        "\n",
        "In Python we have lists that serve the purpose of arrays, but they are slow to process.\n",
        "\n",
        "NumPy aims to provide an array object that is up to 50x faster than traditional Python lists.\n",
        "\n",
        "Arrays are very frequently used in data science, where speed and resources are very important."
      ],
      "metadata": {
        "id": "a1ywrahVhZHV"
      }
    },
    {
      "cell_type": "code",
      "source": [],
      "metadata": {
        "id": "nTL8qp-msHE4"
      },
      "execution_count": null,
      "outputs": []
    },
    {
      "cell_type": "code",
      "execution_count": 1,
      "metadata": {
        "id": "Dyv4Mkgug1TJ"
      },
      "outputs": [],
      "source": [
        "import numpy as np\n",
        "arr=np.array([[1,2,3],[4,5,6]]) #we can create a simple array by using 'array'"
      ]
    },
    {
      "cell_type": "code",
      "source": [
        "print(arr)"
      ],
      "metadata": {
        "colab": {
          "base_uri": "https://localhost:8080/"
        },
        "id": "QOr4Gz3FjMbq",
        "outputId": "8f596c7a-b75e-4491-9fa7-1058ee75b1f1"
      },
      "execution_count": 2,
      "outputs": [
        {
          "output_type": "stream",
          "name": "stdout",
          "text": [
            "[[1 2 3]\n",
            " [4 5 6]]\n"
          ]
        }
      ]
    },
    {
      "cell_type": "code",
      "source": [
        "print(arr[0,1])"
      ],
      "metadata": {
        "colab": {
          "base_uri": "https://localhost:8080/"
        },
        "id": "leebBSoEjRDM",
        "outputId": "14848b85-2c11-4058-fca9-e699db3fea85"
      },
      "execution_count": 3,
      "outputs": [
        {
          "output_type": "stream",
          "name": "stdout",
          "text": [
            "2\n"
          ]
        }
      ]
    },
    {
      "cell_type": "code",
      "source": [
        "print(arr.shape) #The shape of an array is the number of elements in each dimension."
      ],
      "metadata": {
        "colab": {
          "base_uri": "https://localhost:8080/"
        },
        "id": "o2qQS0I6kGQx",
        "outputId": "943cc2cf-c756-4dfb-e0a5-7d37a4150e12"
      },
      "execution_count": 4,
      "outputs": [
        {
          "output_type": "stream",
          "name": "stdout",
          "text": [
            "(2, 3)\n"
          ]
        }
      ]
    },
    {
      "cell_type": "code",
      "source": [
        "print(arr.dtype) #it will return datatype of the array"
      ],
      "metadata": {
        "colab": {
          "base_uri": "https://localhost:8080/"
        },
        "id": "Wgzqpm9lkwZH",
        "outputId": "1d655333-648d-4217-cf17-df93a136d33a"
      },
      "execution_count": 5,
      "outputs": [
        {
          "output_type": "stream",
          "name": "stdout",
          "text": [
            "int64\n"
          ]
        }
      ]
    },
    {
      "cell_type": "markdown",
      "source": [
        "#**Array creation:** Conversion from other python structures"
      ],
      "metadata": {
        "id": "oaBUDaqWmLgu"
      }
    },
    {
      "cell_type": "code",
      "source": [
        "l_arr=np.array([[1,2,3],[4,5,6],[8,9,0]])\n",
        "print(l_arr)"
      ],
      "metadata": {
        "colab": {
          "base_uri": "https://localhost:8080/"
        },
        "id": "zUH9l2iRlN0s",
        "outputId": "49b04d4c-4ac9-4058-8e5d-dee1000871e3"
      },
      "execution_count": 6,
      "outputs": [
        {
          "output_type": "stream",
          "name": "stdout",
          "text": [
            "[[1 2 3]\n",
            " [4 5 6]\n",
            " [8 9 0]]\n"
          ]
        }
      ]
    },
    {
      "cell_type": "code",
      "source": [
        "print(l_arr.shape)"
      ],
      "metadata": {
        "colab": {
          "base_uri": "https://localhost:8080/"
        },
        "id": "vgkfksLYm9tI",
        "outputId": "ea5b217d-ae90-4193-d1e8-bf0e5ccd1ec4"
      },
      "execution_count": 7,
      "outputs": [
        {
          "output_type": "stream",
          "name": "stdout",
          "text": [
            "(3, 3)\n"
          ]
        }
      ]
    },
    {
      "cell_type": "code",
      "source": [
        "print(l_arr.size)"
      ],
      "metadata": {
        "colab": {
          "base_uri": "https://localhost:8080/"
        },
        "id": "_mJwefTjnBiI",
        "outputId": "910c2e86-531e-4569-af6f-7b95f47ff85e"
      },
      "execution_count": 8,
      "outputs": [
        {
          "output_type": "stream",
          "name": "stdout",
          "text": [
            "9\n"
          ]
        }
      ]
    },
    {
      "cell_type": "markdown",
      "source": [
        "#**Array creation:**Intrinsic array creation object"
      ],
      "metadata": {
        "id": "biKb5lZ4nSmr"
      }
    },
    {
      "cell_type": "markdown",
      "source": [
        "**zeros attribute**"
      ],
      "metadata": {
        "id": "4Nbqe75Nralp"
      }
    },
    {
      "cell_type": "code",
      "source": [
        "x=int(input(\"Enter X:\"))\n",
        "y=int(input(\"Enter Y:\"))\n",
        "zeroes=np.zeros((x,y))\n",
        "print(zeroes)\n",
        "print(zeroes.shape)\n",
        "print(zeroes.size)\n",
        "#The numpy.zeros() function returns a new array of given shape and type, with zeros."
      ],
      "metadata": {
        "colab": {
          "base_uri": "https://localhost:8080/"
        },
        "id": "O4Mv2WnRnK-L",
        "outputId": "deb1b70a-50aa-4da9-90fd-ffc5f55e9db2"
      },
      "execution_count": 9,
      "outputs": [
        {
          "output_type": "stream",
          "name": "stdout",
          "text": [
            "Enter X:2\n",
            "Enter Y:2\n",
            "[[0. 0.]\n",
            " [0. 0.]]\n",
            "(2, 2)\n",
            "4\n"
          ]
        }
      ]
    },
    {
      "cell_type": "markdown",
      "source": [
        "**arange() function**"
      ],
      "metadata": {
        "id": "_HuohEGHrrbo"
      }
    },
    {
      "cell_type": "code",
      "source": [
        "rng=np.arange(15)\n",
        "print(rng)\n",
        "print(np.arange(4).reshape(2,2))\n",
        "print(np.arange(4,10))\n",
        "print(np.arange(1,15,3))\n",
        "#Returns an array with evenly spaced elements as per the interval"
      ],
      "metadata": {
        "colab": {
          "base_uri": "https://localhost:8080/"
        },
        "id": "GlFa8kPDpOBj",
        "outputId": "7e69871b-7ce7-43cb-9bb6-8cff7b051efd"
      },
      "execution_count": 10,
      "outputs": [
        {
          "output_type": "stream",
          "name": "stdout",
          "text": [
            "[ 0  1  2  3  4  5  6  7  8  9 10 11 12 13 14]\n",
            "[[0 1]\n",
            " [2 3]]\n",
            "[4 5 6 7 8 9]\n",
            "[ 1  4  7 10 13]\n"
          ]
        }
      ]
    },
    {
      "cell_type": "markdown",
      "source": [
        "**linspace() function**"
      ],
      "metadata": {
        "id": "55HdVCYhsopw"
      }
    },
    {
      "cell_type": "code",
      "source": [
        "lnspace=np.linspace(1,50,10)\n",
        "print(lnspace)\n",
        "#linspace Return evenly spaced numbers over a specified interval."
      ],
      "metadata": {
        "colab": {
          "base_uri": "https://localhost:8080/"
        },
        "id": "5wYd0MK-n7Kv",
        "outputId": "c4ce02c2-1d72-4243-997c-5e5dc6f7f9c7"
      },
      "execution_count": 11,
      "outputs": [
        {
          "output_type": "stream",
          "name": "stdout",
          "text": [
            "[ 1.          6.44444444 11.88888889 17.33333333 22.77777778 28.22222222\n",
            " 33.66666667 39.11111111 44.55555556 50.        ]\n"
          ]
        }
      ]
    },
    {
      "cell_type": "markdown",
      "source": [
        "**empty() & empty_like() function**"
      ],
      "metadata": {
        "id": "2-YE-DVQtmlY"
      }
    },
    {
      "cell_type": "code",
      "source": [
        "emp=np.empty((2,2))\n",
        "print(emp)\n",
        "print(np.empty_like(lnspace))\n",
        "#empty() Return an empty array with shape and type of input.\n",
        "#empty_like() function return a new array with the same shape and data type as the one passed to it"
      ],
      "metadata": {
        "colab": {
          "base_uri": "https://localhost:8080/"
        },
        "id": "mlinQe11sRtj",
        "outputId": "69fb93df-ab97-4e9b-c919-518555a14b2e"
      },
      "execution_count": 12,
      "outputs": [
        {
          "output_type": "stream",
          "name": "stdout",
          "text": [
            "[[0.0e+000 4.9e-324]\n",
            " [9.9e-324 1.5e-323]]\n",
            "[ 1.          6.44444444 11.88888889 17.33333333 22.77777778 28.22222222\n",
            " 33.66666667 39.11111111 44.55555556 50.        ]\n"
          ]
        }
      ]
    },
    {
      "cell_type": "markdown",
      "source": [],
      "metadata": {
        "id": "N0Kpcy-6svPa"
      }
    },
    {
      "cell_type": "code",
      "source": [
        "rav=np.arange(1,21)\n",
        "print(rav)\n",
        "rav=rav.reshape(10,2)\n",
        "print(rav)\n",
        "rav=rav.ravel()\n",
        "print(rav)"
      ],
      "metadata": {
        "colab": {
          "base_uri": "https://localhost:8080/"
        },
        "id": "3UmbyVj_uwHq",
        "outputId": "a24d82e5-daae-442b-a048-6471216960f2"
      },
      "execution_count": 13,
      "outputs": [
        {
          "output_type": "stream",
          "name": "stdout",
          "text": [
            "[ 1  2  3  4  5  6  7  8  9 10 11 12 13 14 15 16 17 18 19 20]\n",
            "[[ 1  2]\n",
            " [ 3  4]\n",
            " [ 5  6]\n",
            " [ 7  8]\n",
            " [ 9 10]\n",
            " [11 12]\n",
            " [13 14]\n",
            " [15 16]\n",
            " [17 18]\n",
            " [19 20]]\n",
            "[ 1  2  3  4  5  6  7  8  9 10 11 12 13 14 15 16 17 18 19 20]\n"
          ]
        }
      ]
    },
    {
      "cell_type": "code",
      "source": [
        "arr=np.array([[1,2,3],[4,5,6],[7,8,9]])\n",
        "print(arr)\n",
        "print(np.sum(arr,axis=0)) #0 is Y axis in graph\n",
        "print(np.sum(arr,axis=1)) #1 is X axis in graph\n",
        "print(arr.T) # Transpose of matrix\n",
        "for i in arr.flat: #flat will create a iterator for traversing\n",
        "  print(i)\n",
        "\n",
        "print(\"no: of dimensions:\",arr.ndim) #no of array dimensions"
      ],
      "metadata": {
        "id": "7F2S3D2eu4zg",
        "colab": {
          "base_uri": "https://localhost:8080/"
        },
        "outputId": "3be8f52c-4cdc-44b6-b3b7-a96ced1a19b3"
      },
      "execution_count": 25,
      "outputs": [
        {
          "output_type": "stream",
          "name": "stdout",
          "text": [
            "[[1 2 3]\n",
            " [4 5 6]\n",
            " [7 8 9]]\n",
            "[12 15 18]\n",
            "[ 6 15 24]\n",
            "[[1 4 7]\n",
            " [2 5 8]\n",
            " [3 6 9]]\n",
            "1\n",
            "2\n",
            "3\n",
            "4\n",
            "5\n",
            "6\n",
            "7\n",
            "8\n",
            "9\n",
            "no: of dimensions: 2\n"
          ]
        }
      ]
    },
    {
      "cell_type": "code",
      "source": [
        "one=np.array([1,40,5,3,90])\n",
        "print(one.argmax())\n",
        "print(one.argmin())\n",
        "print(one.argsort())\n",
        "print(arr)\n",
        "print(arr.argmax())\n",
        "print(arr.argmin())\n",
        "print(arr.argmax(axis=0))\n",
        "print(arr.argmin(axis=1))\n",
        "print(np.where(arr>5))"
      ],
      "metadata": {
        "colab": {
          "base_uri": "https://localhost:8080/"
        },
        "id": "U7SWRsf6rtVE",
        "outputId": "b1f446c3-1c9b-4ef5-d1ae-bd22ad346896"
      },
      "execution_count": 38,
      "outputs": [
        {
          "output_type": "stream",
          "name": "stdout",
          "text": [
            "4\n",
            "0\n",
            "[0 3 2 1 4]\n",
            "[[1 2 3]\n",
            " [4 5 6]\n",
            " [7 8 9]]\n",
            "8\n",
            "0\n",
            "[2 2 2]\n",
            "[0 0 0]\n",
            "(array([1, 2, 2, 2]), array([2, 0, 1, 2]))\n"
          ]
        }
      ]
    }
  ]
}