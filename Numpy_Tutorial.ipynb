{
  "nbformat": 4,
  "nbformat_minor": 0,
  "metadata": {
    "colab": {
      "provenance": [],
      "authorship_tag": "ABX9TyOOyfZmqd6NDuJ2cfcx+/Bk",
      "include_colab_link": true
    },
    "kernelspec": {
      "name": "python3",
      "display_name": "Python 3"
    },
    "language_info": {
      "name": "python"
    }
  },
  "cells": [
    {
      "cell_type": "markdown",
      "metadata": {
        "id": "view-in-github",
        "colab_type": "text"
      },
      "source": [
        "<a href=\"https://colab.research.google.com/github/Athrudev/Athrudev/blob/main/Numpy_Tutorial.ipynb\" target=\"_parent\"><img src=\"https://colab.research.google.com/assets/colab-badge.svg\" alt=\"Open In Colab\"/></a>"
      ]
    },
    {
      "cell_type": "markdown",
      "source": [
        "#**Begginer Tutorial for Numpy**\n"
      ],
      "metadata": {
        "id": "VnonPR8uhFhV"
      }
    },
    {
      "cell_type": "markdown",
      "source": [
        "**why we use Numpy?**\n",
        "\n",
        "In Python we have lists that serve the purpose of arrays, but they are slow to process.\n",
        "\n",
        "NumPy aims to provide an array object that is up to 50x faster than traditional Python lists.\n",
        "\n",
        "Arrays are very frequently used in data science, where speed and resources are very important."
      ],
      "metadata": {
        "id": "a1ywrahVhZHV"
      }
    },
    {
      "cell_type": "code",
      "source": [],
      "metadata": {
        "id": "nTL8qp-msHE4"
      },
      "execution_count": null,
      "outputs": []
    },
    {
      "cell_type": "code",
      "execution_count": null,
      "metadata": {
        "id": "Dyv4Mkgug1TJ"
      },
      "outputs": [],
      "source": [
        "import numpy as np\n",
        "arr=np.array([[1,2,3],[4,5,6]]) #we can create a simple array by using 'array'"
      ]
    },
    {
      "cell_type": "code",
      "source": [
        "print(arr)"
      ],
      "metadata": {
        "colab": {
          "base_uri": "https://localhost:8080/"
        },
        "id": "QOr4Gz3FjMbq",
        "outputId": "610b6277-5806-4f22-b79a-072eceeeee87"
      },
      "execution_count": null,
      "outputs": [
        {
          "output_type": "stream",
          "name": "stdout",
          "text": [
            "[[1 2 3]\n",
            " [4 5 6]]\n"
          ]
        }
      ]
    },
    {
      "cell_type": "code",
      "source": [
        "print(arr[0,1])"
      ],
      "metadata": {
        "colab": {
          "base_uri": "https://localhost:8080/"
        },
        "id": "leebBSoEjRDM",
        "outputId": "cd8c7f3a-19be-497d-b207-0abba51f1aea"
      },
      "execution_count": null,
      "outputs": [
        {
          "output_type": "stream",
          "name": "stdout",
          "text": [
            "2\n"
          ]
        }
      ]
    },
    {
      "cell_type": "code",
      "source": [
        "print(arr.shape) #The shape of an array is the number of elements in each dimension."
      ],
      "metadata": {
        "colab": {
          "base_uri": "https://localhost:8080/"
        },
        "id": "o2qQS0I6kGQx",
        "outputId": "88dd96db-c055-4250-9dc0-7c60fe02e89f"
      },
      "execution_count": null,
      "outputs": [
        {
          "output_type": "stream",
          "name": "stdout",
          "text": [
            "(2, 3)\n"
          ]
        }
      ]
    },
    {
      "cell_type": "code",
      "source": [
        "print(arr.dtype) #it will return datatype of the array"
      ],
      "metadata": {
        "colab": {
          "base_uri": "https://localhost:8080/"
        },
        "id": "Wgzqpm9lkwZH",
        "outputId": "03a124cb-a6b3-4b57-8ed7-896285fe5b8f"
      },
      "execution_count": null,
      "outputs": [
        {
          "output_type": "stream",
          "name": "stdout",
          "text": [
            "int64\n"
          ]
        }
      ]
    },
    {
      "cell_type": "markdown",
      "source": [
        "#**Array creation:** Conversion from other python structures"
      ],
      "metadata": {
        "id": "oaBUDaqWmLgu"
      }
    },
    {
      "cell_type": "code",
      "source": [
        "l_arr=np.array([[1,2,3],[4,5,6],[8,9,0]])\n",
        "print(l_arr)"
      ],
      "metadata": {
        "colab": {
          "base_uri": "https://localhost:8080/"
        },
        "id": "zUH9l2iRlN0s",
        "outputId": "f71e9f5e-6ee4-4373-c46c-30ff1007f06c"
      },
      "execution_count": null,
      "outputs": [
        {
          "output_type": "stream",
          "name": "stdout",
          "text": [
            "[[1 2 3]\n",
            " [4 5 6]\n",
            " [8 9 0]]\n"
          ]
        }
      ]
    },
    {
      "cell_type": "code",
      "source": [
        "print(l_arr.shape)"
      ],
      "metadata": {
        "colab": {
          "base_uri": "https://localhost:8080/"
        },
        "id": "vgkfksLYm9tI",
        "outputId": "ce4a4ef8-5ba0-4cd2-8596-89338aa895c8"
      },
      "execution_count": null,
      "outputs": [
        {
          "output_type": "stream",
          "name": "stdout",
          "text": [
            "(3, 3)\n"
          ]
        }
      ]
    },
    {
      "cell_type": "code",
      "source": [
        "print(l_arr.size)"
      ],
      "metadata": {
        "colab": {
          "base_uri": "https://localhost:8080/"
        },
        "id": "_mJwefTjnBiI",
        "outputId": "fdb2c6ed-8b13-4e0c-f911-799625fad504"
      },
      "execution_count": null,
      "outputs": [
        {
          "output_type": "stream",
          "name": "stdout",
          "text": [
            "9\n"
          ]
        }
      ]
    },
    {
      "cell_type": "markdown",
      "source": [
        "#**Array creation:**Intrinsic array creation object"
      ],
      "metadata": {
        "id": "biKb5lZ4nSmr"
      }
    },
    {
      "cell_type": "markdown",
      "source": [
        "**zeros attribute**"
      ],
      "metadata": {
        "id": "4Nbqe75Nralp"
      }
    },
    {
      "cell_type": "code",
      "source": [
        "x=int(input(\"Enter X:\"))\n",
        "y=int(input(\"Enter Y:\"))\n",
        "zeroes=np.zeros((x,y))\n",
        "print(zeroes)\n",
        "print(zeroes.shape)\n",
        "print(zeroes.size)\n",
        "#The numpy.zeros() function returns a new array of given shape and type, with zeros."
      ],
      "metadata": {
        "colab": {
          "base_uri": "https://localhost:8080/"
        },
        "id": "O4Mv2WnRnK-L",
        "outputId": "4c5be860-1ea8-4d4a-e4c3-7cc60e94d5e8"
      },
      "execution_count": null,
      "outputs": [
        {
          "output_type": "stream",
          "name": "stdout",
          "text": [
            "Enter X:5\n",
            "Enter Y:2\n",
            "[[0. 0.]\n",
            " [0. 0.]\n",
            " [0. 0.]\n",
            " [0. 0.]\n",
            " [0. 0.]]\n",
            "(5, 2)\n",
            "10\n"
          ]
        }
      ]
    },
    {
      "cell_type": "markdown",
      "source": [
        "**arange() function**"
      ],
      "metadata": {
        "id": "_HuohEGHrrbo"
      }
    },
    {
      "cell_type": "code",
      "source": [
        "rng=np.arange(15)\n",
        "print(rng)\n",
        "print(np.arange(4).reshape(2,2))\n",
        "print(np.arange(4,10))\n",
        "print(np.arange(1,15,3))\n",
        "#Returns an array with evenly spaced elements as per the interval"
      ],
      "metadata": {
        "colab": {
          "base_uri": "https://localhost:8080/"
        },
        "id": "GlFa8kPDpOBj",
        "outputId": "496675b8-f0a1-4e81-9292-4b41a05214f0"
      },
      "execution_count": null,
      "outputs": [
        {
          "output_type": "stream",
          "name": "stdout",
          "text": [
            "[ 0  1  2  3  4  5  6  7  8  9 10 11 12 13 14]\n",
            "[[0 1]\n",
            " [2 3]]\n",
            "[4 5 6 7 8 9]\n",
            "[ 1  4  7 10 13]\n"
          ]
        }
      ]
    },
    {
      "cell_type": "markdown",
      "source": [
        "**linspace() function**"
      ],
      "metadata": {
        "id": "55HdVCYhsopw"
      }
    },
    {
      "cell_type": "code",
      "source": [
        "lnspace=np.linspace(1,50,10)\n",
        "print(lnspace)\n",
        "#linspace Return evenly spaced numbers over a specified interval."
      ],
      "metadata": {
        "colab": {
          "base_uri": "https://localhost:8080/"
        },
        "id": "5wYd0MK-n7Kv",
        "outputId": "3c800174-01b4-4ab4-e3b3-d57b4b4883eb"
      },
      "execution_count": null,
      "outputs": [
        {
          "output_type": "stream",
          "name": "stdout",
          "text": [
            "[ 1.          6.44444444 11.88888889 17.33333333 22.77777778 28.22222222\n",
            " 33.66666667 39.11111111 44.55555556 50.        ]\n"
          ]
        }
      ]
    },
    {
      "cell_type": "markdown",
      "source": [
        "**empty() & empty_like() function**"
      ],
      "metadata": {
        "id": "2-YE-DVQtmlY"
      }
    },
    {
      "cell_type": "code",
      "source": [
        "emp=np.empty((2,2))\n",
        "print(emp)\n",
        "print(np.empty_like(lnspace))\n",
        "#empty() Return an empty array with shape and type of input.\n",
        "#empty_like() function return a new array with the same shape and data type as the one passed to it"
      ],
      "metadata": {
        "colab": {
          "base_uri": "https://localhost:8080/"
        },
        "id": "mlinQe11sRtj",
        "outputId": "52398934-a371-4fe9-8c21-919ce517675a"
      },
      "execution_count": null,
      "outputs": [
        {
          "output_type": "stream",
          "name": "stdout",
          "text": [
            "[[ 1.         17.33333333]\n",
            " [33.66666667 50.        ]]\n",
            "[ 1.          6.44444444 11.88888889 17.33333333 22.77777778 28.22222222\n",
            " 33.66666667 39.11111111 44.55555556 50.        ]\n"
          ]
        }
      ]
    },
    {
      "cell_type": "markdown",
      "source": [],
      "metadata": {
        "id": "N0Kpcy-6svPa"
      }
    },
    {
      "cell_type": "code",
      "source": [
        "rav=np.arange(1,21)\n",
        "print(rav)\n",
        "rav=rav.reshape(10,2)\n",
        "print(rav)\n",
        "rav=rav.ravel()\n",
        "print(rav)"
      ],
      "metadata": {
        "colab": {
          "base_uri": "https://localhost:8080/"
        },
        "id": "3UmbyVj_uwHq",
        "outputId": "5d3426ce-2773-41d4-c824-6ce7dd9939cf"
      },
      "execution_count": null,
      "outputs": [
        {
          "output_type": "stream",
          "name": "stdout",
          "text": [
            "[ 1  2  3  4  5  6  7  8  9 10 11 12 13 14 15 16 17 18 19 20]\n",
            "[[ 1  2]\n",
            " [ 3  4]\n",
            " [ 5  6]\n",
            " [ 7  8]\n",
            " [ 9 10]\n",
            " [11 12]\n",
            " [13 14]\n",
            " [15 16]\n",
            " [17 18]\n",
            " [19 20]]\n",
            "[ 1  2  3  4  5  6  7  8  9 10 11 12 13 14 15 16 17 18 19 20]\n"
          ]
        }
      ]
    },
    {
      "cell_type": "code",
      "source": [],
      "metadata": {
        "id": "7F2S3D2eu4zg"
      },
      "execution_count": null,
      "outputs": []
    }
  ]
}